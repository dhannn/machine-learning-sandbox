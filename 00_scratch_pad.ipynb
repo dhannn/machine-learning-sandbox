{
 "cells": [
  {
   "cell_type": "code",
   "execution_count": 2,
   "metadata": {},
   "outputs": [],
   "source": [
    "import pandas as pd\n",
    "from sklearn.model_selection import train_test_split"
   ]
  },
  {
   "cell_type": "code",
   "execution_count": 3,
   "metadata": {},
   "outputs": [],
   "source": [
    "happiness_score_2019 = pd.read_csv('data/2019.csv')"
   ]
  },
  {
   "cell_type": "code",
   "execution_count": null,
   "metadata": {},
   "outputs": [],
   "source": []
  },
  {
   "cell_type": "code",
   "execution_count": 8,
   "metadata": {},
   "outputs": [
    {
     "data": {
      "text/html": [
       "<div>\n",
       "<style scoped>\n",
       "    .dataframe tbody tr th:only-of-type {\n",
       "        vertical-align: middle;\n",
       "    }\n",
       "\n",
       "    .dataframe tbody tr th {\n",
       "        vertical-align: top;\n",
       "    }\n",
       "\n",
       "    .dataframe thead th {\n",
       "        text-align: right;\n",
       "    }\n",
       "</style>\n",
       "<table border=\"1\" class=\"dataframe\">\n",
       "  <thead>\n",
       "    <tr style=\"text-align: right;\">\n",
       "      <th></th>\n",
       "      <th>Overall rank</th>\n",
       "      <th>Country or region</th>\n",
       "      <th>Score</th>\n",
       "      <th>GDP per capita</th>\n",
       "      <th>Social support</th>\n",
       "      <th>Healthy life expectancy</th>\n",
       "      <th>Freedom to make life choices</th>\n",
       "      <th>Generosity</th>\n",
       "      <th>Perceptions of corruption</th>\n",
       "    </tr>\n",
       "  </thead>\n",
       "  <tbody>\n",
       "    <tr>\n",
       "      <th>0</th>\n",
       "      <td>1</td>\n",
       "      <td>Finland</td>\n",
       "      <td>7.769</td>\n",
       "      <td>1.340</td>\n",
       "      <td>1.587</td>\n",
       "      <td>0.986</td>\n",
       "      <td>0.596</td>\n",
       "      <td>0.153</td>\n",
       "      <td>0.393</td>\n",
       "    </tr>\n",
       "    <tr>\n",
       "      <th>1</th>\n",
       "      <td>2</td>\n",
       "      <td>Denmark</td>\n",
       "      <td>7.600</td>\n",
       "      <td>1.383</td>\n",
       "      <td>1.573</td>\n",
       "      <td>0.996</td>\n",
       "      <td>0.592</td>\n",
       "      <td>0.252</td>\n",
       "      <td>0.410</td>\n",
       "    </tr>\n",
       "    <tr>\n",
       "      <th>2</th>\n",
       "      <td>3</td>\n",
       "      <td>Norway</td>\n",
       "      <td>7.554</td>\n",
       "      <td>1.488</td>\n",
       "      <td>1.582</td>\n",
       "      <td>1.028</td>\n",
       "      <td>0.603</td>\n",
       "      <td>0.271</td>\n",
       "      <td>0.341</td>\n",
       "    </tr>\n",
       "    <tr>\n",
       "      <th>3</th>\n",
       "      <td>4</td>\n",
       "      <td>Iceland</td>\n",
       "      <td>7.494</td>\n",
       "      <td>1.380</td>\n",
       "      <td>1.624</td>\n",
       "      <td>1.026</td>\n",
       "      <td>0.591</td>\n",
       "      <td>0.354</td>\n",
       "      <td>0.118</td>\n",
       "    </tr>\n",
       "    <tr>\n",
       "      <th>4</th>\n",
       "      <td>5</td>\n",
       "      <td>Netherlands</td>\n",
       "      <td>7.488</td>\n",
       "      <td>1.396</td>\n",
       "      <td>1.522</td>\n",
       "      <td>0.999</td>\n",
       "      <td>0.557</td>\n",
       "      <td>0.322</td>\n",
       "      <td>0.298</td>\n",
       "    </tr>\n",
       "    <tr>\n",
       "      <th>...</th>\n",
       "      <td>...</td>\n",
       "      <td>...</td>\n",
       "      <td>...</td>\n",
       "      <td>...</td>\n",
       "      <td>...</td>\n",
       "      <td>...</td>\n",
       "      <td>...</td>\n",
       "      <td>...</td>\n",
       "      <td>...</td>\n",
       "    </tr>\n",
       "    <tr>\n",
       "      <th>151</th>\n",
       "      <td>152</td>\n",
       "      <td>Rwanda</td>\n",
       "      <td>3.334</td>\n",
       "      <td>0.359</td>\n",
       "      <td>0.711</td>\n",
       "      <td>0.614</td>\n",
       "      <td>0.555</td>\n",
       "      <td>0.217</td>\n",
       "      <td>0.411</td>\n",
       "    </tr>\n",
       "    <tr>\n",
       "      <th>152</th>\n",
       "      <td>153</td>\n",
       "      <td>Tanzania</td>\n",
       "      <td>3.231</td>\n",
       "      <td>0.476</td>\n",
       "      <td>0.885</td>\n",
       "      <td>0.499</td>\n",
       "      <td>0.417</td>\n",
       "      <td>0.276</td>\n",
       "      <td>0.147</td>\n",
       "    </tr>\n",
       "    <tr>\n",
       "      <th>153</th>\n",
       "      <td>154</td>\n",
       "      <td>Afghanistan</td>\n",
       "      <td>3.203</td>\n",
       "      <td>0.350</td>\n",
       "      <td>0.517</td>\n",
       "      <td>0.361</td>\n",
       "      <td>0.000</td>\n",
       "      <td>0.158</td>\n",
       "      <td>0.025</td>\n",
       "    </tr>\n",
       "    <tr>\n",
       "      <th>154</th>\n",
       "      <td>155</td>\n",
       "      <td>Central African Republic</td>\n",
       "      <td>3.083</td>\n",
       "      <td>0.026</td>\n",
       "      <td>0.000</td>\n",
       "      <td>0.105</td>\n",
       "      <td>0.225</td>\n",
       "      <td>0.235</td>\n",
       "      <td>0.035</td>\n",
       "    </tr>\n",
       "    <tr>\n",
       "      <th>155</th>\n",
       "      <td>156</td>\n",
       "      <td>South Sudan</td>\n",
       "      <td>2.853</td>\n",
       "      <td>0.306</td>\n",
       "      <td>0.575</td>\n",
       "      <td>0.295</td>\n",
       "      <td>0.010</td>\n",
       "      <td>0.202</td>\n",
       "      <td>0.091</td>\n",
       "    </tr>\n",
       "  </tbody>\n",
       "</table>\n",
       "<p>156 rows × 9 columns</p>\n",
       "</div>"
      ],
      "text/plain": [
       "     Overall rank         Country or region  Score  GDP per capita  \\\n",
       "0               1                   Finland  7.769           1.340   \n",
       "1               2                   Denmark  7.600           1.383   \n",
       "2               3                    Norway  7.554           1.488   \n",
       "3               4                   Iceland  7.494           1.380   \n",
       "4               5               Netherlands  7.488           1.396   \n",
       "..            ...                       ...    ...             ...   \n",
       "151           152                    Rwanda  3.334           0.359   \n",
       "152           153                  Tanzania  3.231           0.476   \n",
       "153           154               Afghanistan  3.203           0.350   \n",
       "154           155  Central African Republic  3.083           0.026   \n",
       "155           156               South Sudan  2.853           0.306   \n",
       "\n",
       "     Social support  Healthy life expectancy  Freedom to make life choices  \\\n",
       "0             1.587                    0.986                         0.596   \n",
       "1             1.573                    0.996                         0.592   \n",
       "2             1.582                    1.028                         0.603   \n",
       "3             1.624                    1.026                         0.591   \n",
       "4             1.522                    0.999                         0.557   \n",
       "..              ...                      ...                           ...   \n",
       "151           0.711                    0.614                         0.555   \n",
       "152           0.885                    0.499                         0.417   \n",
       "153           0.517                    0.361                         0.000   \n",
       "154           0.000                    0.105                         0.225   \n",
       "155           0.575                    0.295                         0.010   \n",
       "\n",
       "     Generosity  Perceptions of corruption  \n",
       "0         0.153                      0.393  \n",
       "1         0.252                      0.410  \n",
       "2         0.271                      0.341  \n",
       "3         0.354                      0.118  \n",
       "4         0.322                      0.298  \n",
       "..          ...                        ...  \n",
       "151       0.217                      0.411  \n",
       "152       0.276                      0.147  \n",
       "153       0.158                      0.025  \n",
       "154       0.235                      0.035  \n",
       "155       0.202                      0.091  \n",
       "\n",
       "[156 rows x 9 columns]"
      ]
     },
     "execution_count": 8,
     "metadata": {},
     "output_type": "execute_result"
    }
   ],
   "source": [
    "happiness_score_2019"
   ]
  },
  {
   "cell_type": "code",
   "execution_count": 4,
   "metadata": {},
   "outputs": [
    {
     "data": {
      "text/html": [
       "<div>\n",
       "<style scoped>\n",
       "    .dataframe tbody tr th:only-of-type {\n",
       "        vertical-align: middle;\n",
       "    }\n",
       "\n",
       "    .dataframe tbody tr th {\n",
       "        vertical-align: top;\n",
       "    }\n",
       "\n",
       "    .dataframe thead th {\n",
       "        text-align: right;\n",
       "    }\n",
       "</style>\n",
       "<table border=\"1\" class=\"dataframe\">\n",
       "  <thead>\n",
       "    <tr style=\"text-align: right;\">\n",
       "      <th></th>\n",
       "      <th>Country or region</th>\n",
       "      <th>Social support</th>\n",
       "      <th>Score</th>\n",
       "    </tr>\n",
       "  </thead>\n",
       "  <tbody>\n",
       "    <tr>\n",
       "      <th>0</th>\n",
       "      <td>Finland</td>\n",
       "      <td>1.587</td>\n",
       "      <td>7.769</td>\n",
       "    </tr>\n",
       "    <tr>\n",
       "      <th>1</th>\n",
       "      <td>Denmark</td>\n",
       "      <td>1.573</td>\n",
       "      <td>7.600</td>\n",
       "    </tr>\n",
       "    <tr>\n",
       "      <th>2</th>\n",
       "      <td>Norway</td>\n",
       "      <td>1.582</td>\n",
       "      <td>7.554</td>\n",
       "    </tr>\n",
       "    <tr>\n",
       "      <th>3</th>\n",
       "      <td>Iceland</td>\n",
       "      <td>1.624</td>\n",
       "      <td>7.494</td>\n",
       "    </tr>\n",
       "    <tr>\n",
       "      <th>4</th>\n",
       "      <td>Netherlands</td>\n",
       "      <td>1.522</td>\n",
       "      <td>7.488</td>\n",
       "    </tr>\n",
       "    <tr>\n",
       "      <th>...</th>\n",
       "      <td>...</td>\n",
       "      <td>...</td>\n",
       "      <td>...</td>\n",
       "    </tr>\n",
       "    <tr>\n",
       "      <th>151</th>\n",
       "      <td>Rwanda</td>\n",
       "      <td>0.711</td>\n",
       "      <td>3.334</td>\n",
       "    </tr>\n",
       "    <tr>\n",
       "      <th>152</th>\n",
       "      <td>Tanzania</td>\n",
       "      <td>0.885</td>\n",
       "      <td>3.231</td>\n",
       "    </tr>\n",
       "    <tr>\n",
       "      <th>153</th>\n",
       "      <td>Afghanistan</td>\n",
       "      <td>0.517</td>\n",
       "      <td>3.203</td>\n",
       "    </tr>\n",
       "    <tr>\n",
       "      <th>154</th>\n",
       "      <td>Central African Republic</td>\n",
       "      <td>0.000</td>\n",
       "      <td>3.083</td>\n",
       "    </tr>\n",
       "    <tr>\n",
       "      <th>155</th>\n",
       "      <td>South Sudan</td>\n",
       "      <td>0.575</td>\n",
       "      <td>2.853</td>\n",
       "    </tr>\n",
       "  </tbody>\n",
       "</table>\n",
       "<p>156 rows × 3 columns</p>\n",
       "</div>"
      ],
      "text/plain": [
       "            Country or region  Social support  Score\n",
       "0                     Finland           1.587  7.769\n",
       "1                     Denmark           1.573  7.600\n",
       "2                      Norway           1.582  7.554\n",
       "3                     Iceland           1.624  7.494\n",
       "4                 Netherlands           1.522  7.488\n",
       "..                        ...             ...    ...\n",
       "151                    Rwanda           0.711  3.334\n",
       "152                  Tanzania           0.885  3.231\n",
       "153               Afghanistan           0.517  3.203\n",
       "154  Central African Republic           0.000  3.083\n",
       "155               South Sudan           0.575  2.853\n",
       "\n",
       "[156 rows x 3 columns]"
      ]
     },
     "execution_count": 4,
     "metadata": {},
     "output_type": "execute_result"
    }
   ],
   "source": [
    "happiness_score_2019 = happiness_score_2019[['Country or region', 'Social support', 'Score']]\n",
    "happiness_score_2019"
   ]
  },
  {
   "cell_type": "code",
   "execution_count": 5,
   "metadata": {},
   "outputs": [],
   "source": [
    "import matplotlib.pyplot as plt"
   ]
  },
  {
   "cell_type": "markdown",
   "metadata": {},
   "source": [
    "$$\\hat y = \\beta_0 + x \\beta_1 + \\epsilon$$\n",
    "\n",
    "More generally:\n",
    "$$\\hat y = \\beta_0 + \\sum_{i = 1}^{n} x_i \\beta_i + \\epsilon$$"
   ]
  },
  {
   "cell_type": "code",
   "execution_count": 6,
   "metadata": {},
   "outputs": [
    {
     "data": {
      "text/plain": [
       "<matplotlib.collections.PathCollection at 0x2884126ef90>"
      ]
     },
     "execution_count": 6,
     "metadata": {},
     "output_type": "execute_result"
    },
    {
     "data": {
      "image/png": "[encoded data removed]",
      "text/plain": [
       "<Figure size 640x480 with 1 Axes>"
      ]
     },
     "metadata": {},
     "output_type": "display_data"
    }
   ],
   "source": [
    "# plt.scatter(happiness_score_2019['Healthy life expectancy'], happiness_score_2019['Score'])\n",
    "plt.scatter(happiness_score_2019['Social support'], happiness_score_2019['Score'])"
   ]
  },
  {
   "cell_type": "markdown",
   "metadata": {},
   "source": [
    "# Linear Regression"
   ]
  },
  {
   "cell_type": "code",
   "execution_count": 7,
   "metadata": {},
   "outputs": [],
   "source": [
    "train, test = train_test_split(happiness_score_2019, test_size=0.2)"
   ]
  },
  {
   "cell_type": "code",
   "execution_count": 8,
   "metadata": {},
   "outputs": [],
   "source": [
    "beta_0 = 0\n",
    "beta_1 = 5"
   ]
  },
  {
   "cell_type": "code",
   "execution_count": 9,
   "metadata": {},
   "outputs": [],
   "source": [
    "import numpy as np"
   ]
  },
  {
   "cell_type": "code",
   "execution_count": 10,
   "metadata": {},
   "outputs": [],
   "source": [
    "def loss(beta_0, beta_1, x, y, n):\n",
    "    return sum((x * beta_1 - y + beta_0) ** 2) / (2 * n)"
   ]
  },
  {
   "cell_type": "code",
   "execution_count": 129,
   "metadata": {},
   "outputs": [
    {
     "data": {
      "text/plain": [
       "[<matplotlib.lines.Line2D at 0x1db0da19820>]"
      ]
     },
     "execution_count": 129,
     "metadata": {},
     "output_type": "execute_result"
    },
    {
     "data": {
      "image/png": "[encoded data removed]",
      "text/plain": [
       "<Figure size 640x480 with 1 Axes>"
      ]
     },
     "metadata": {},
     "output_type": "display_data"
    }
   ],
   "source": [
    "plt.scatter(happiness_score_2019['Social support'], happiness_score_2019['Score'])\n",
    "sample_x = np.linspace(0, 1.6, num=20)\n",
    "sample_y = [beta_0 + beta_1 * x for x in sample_x]\n",
    "plt.plot(sample_x, sample_y)"
   ]
  },
  {
   "cell_type": "code",
   "execution_count": 92,
   "metadata": {},
   "outputs": [
    {
     "data": {
      "text/plain": [
       "0.6361183588709677"
      ]
     },
     "execution_count": 92,
     "metadata": {},
     "output_type": "execute_result"
    }
   ],
   "source": [
    "loss(beta_0, beta_1, train['Social support'], train['Score'], train.shape[0])"
   ]
  },
  {
   "cell_type": "code",
   "execution_count": 137,
   "metadata": {},
   "outputs": [
    {
     "data": {
      "text/plain": [
       "array([-10.        ,  -9.59183673,  -9.18367347,  -8.7755102 ,\n",
       "        -8.36734694,  -7.95918367,  -7.55102041,  -7.14285714,\n",
       "        -6.73469388,  -6.32653061,  -5.91836735,  -5.51020408,\n",
       "        -5.10204082,  -4.69387755,  -4.28571429,  -3.87755102,\n",
       "        -3.46938776,  -3.06122449,  -2.65306122,  -2.24489796,\n",
       "        -1.83673469,  -1.42857143,  -1.02040816,  -0.6122449 ,\n",
       "        -0.20408163,   0.20408163,   0.6122449 ,   1.02040816,\n",
       "         1.42857143,   1.83673469,   2.24489796,   2.65306122,\n",
       "         3.06122449,   3.46938776,   3.87755102,   4.28571429,\n",
       "         4.69387755,   5.10204082,   5.51020408,   5.91836735,\n",
       "         6.32653061,   6.73469388,   7.14285714,   7.55102041,\n",
       "         7.95918367,   8.36734694,   8.7755102 ,   9.18367347,\n",
       "         9.59183673,  10.        ])"
      ]
     },
     "execution_count": 137,
     "metadata": {},
     "output_type": "execute_result"
    }
   ],
   "source": [
    "eh = np.linspace(-10, 10, num=50)\n",
    "eh"
   ]
  },
  {
   "cell_type": "code",
   "execution_count": null,
   "metadata": {},
   "outputs": [],
   "source": [
    "# https://towardsdatascience.com/gradient-descent-algorithm-a-deep-dive-cf04e8115f21\n",
    "# https://medium.com/machine-learning-for-humans/supervised-learning-740383a2feab"
   ]
  },
  {
   "cell_type": "code",
   "execution_count": 135,
   "metadata": {},
   "outputs": [
    {
     "data": {
      "text/html": [
       "<div>\n",
       "<style scoped>\n",
       "    .dataframe tbody tr th:only-of-type {\n",
       "        vertical-align: middle;\n",
       "    }\n",
       "\n",
       "    .dataframe tbody tr th {\n",
       "        vertical-align: top;\n",
       "    }\n",
       "\n",
       "    .dataframe thead th {\n",
       "        text-align: right;\n",
       "    }\n",
       "</style>\n",
       "<table border=\"1\" class=\"dataframe\">\n",
       "  <thead>\n",
       "    <tr style=\"text-align: right;\">\n",
       "      <th></th>\n",
       "      <th>loss</th>\n",
       "    </tr>\n",
       "    <tr>\n",
       "      <th>betas</th>\n",
       "      <th></th>\n",
       "    </tr>\n",
       "  </thead>\n",
       "  <tbody>\n",
       "    <tr>\n",
       "      <th>-1000.000000</th>\n",
       "      <td>500734.210083</td>\n",
       "    </tr>\n",
       "    <tr>\n",
       "      <th>-959.183673</th>\n",
       "      <td>460720.924845</td>\n",
       "    </tr>\n",
       "    <tr>\n",
       "      <th>-918.367347</th>\n",
       "      <td>422373.612118</td>\n",
       "    </tr>\n",
       "    <tr>\n",
       "      <th>-877.551020</th>\n",
       "      <td>385692.271903</td>\n",
       "    </tr>\n",
       "    <tr>\n",
       "      <th>-836.734694</th>\n",
       "      <td>350676.904199</td>\n",
       "    </tr>\n",
       "    <tr>\n",
       "      <th>-795.918367</th>\n",
       "      <td>317327.509006</td>\n",
       "    </tr>\n",
       "    <tr>\n",
       "      <th>-755.102041</th>\n",
       "      <td>285644.086325</td>\n",
       "    </tr>\n",
       "    <tr>\n",
       "      <th>-714.285714</th>\n",
       "      <td>255626.636156</td>\n",
       "    </tr>\n",
       "    <tr>\n",
       "      <th>-673.469388</th>\n",
       "      <td>227275.158497</td>\n",
       "    </tr>\n",
       "    <tr>\n",
       "      <th>-632.653061</th>\n",
       "      <td>200589.653351</td>\n",
       "    </tr>\n",
       "    <tr>\n",
       "      <th>-591.836735</th>\n",
       "      <td>175570.120715</td>\n",
       "    </tr>\n",
       "    <tr>\n",
       "      <th>-551.020408</th>\n",
       "      <td>152216.560592</td>\n",
       "    </tr>\n",
       "    <tr>\n",
       "      <th>-510.204082</th>\n",
       "      <td>130528.972979</td>\n",
       "    </tr>\n",
       "    <tr>\n",
       "      <th>-469.387755</th>\n",
       "      <td>110507.357878</td>\n",
       "    </tr>\n",
       "    <tr>\n",
       "      <th>-428.571429</th>\n",
       "      <td>92151.715289</td>\n",
       "    </tr>\n",
       "    <tr>\n",
       "      <th>-387.755102</th>\n",
       "      <td>75462.045211</td>\n",
       "    </tr>\n",
       "    <tr>\n",
       "      <th>-346.938776</th>\n",
       "      <td>60438.347644</td>\n",
       "    </tr>\n",
       "    <tr>\n",
       "      <th>-306.122449</th>\n",
       "      <td>47080.622589</td>\n",
       "    </tr>\n",
       "    <tr>\n",
       "      <th>-265.306122</th>\n",
       "      <td>35388.870046</td>\n",
       "    </tr>\n",
       "    <tr>\n",
       "      <th>-224.489796</th>\n",
       "      <td>25363.090014</td>\n",
       "    </tr>\n",
       "    <tr>\n",
       "      <th>-183.673469</th>\n",
       "      <td>17003.282493</td>\n",
       "    </tr>\n",
       "    <tr>\n",
       "      <th>-142.857143</th>\n",
       "      <td>10309.447484</td>\n",
       "    </tr>\n",
       "    <tr>\n",
       "      <th>-102.040816</th>\n",
       "      <td>5281.584986</td>\n",
       "    </tr>\n",
       "    <tr>\n",
       "      <th>-61.224490</th>\n",
       "      <td>1919.694999</td>\n",
       "    </tr>\n",
       "    <tr>\n",
       "      <th>-20.408163</th>\n",
       "      <td>223.777524</td>\n",
       "    </tr>\n",
       "    <tr>\n",
       "      <th>20.408163</th>\n",
       "      <td>193.832561</td>\n",
       "    </tr>\n",
       "    <tr>\n",
       "      <th>61.224490</th>\n",
       "      <td>1829.860109</td>\n",
       "    </tr>\n",
       "    <tr>\n",
       "      <th>102.040816</th>\n",
       "      <td>5131.860168</td>\n",
       "    </tr>\n",
       "    <tr>\n",
       "      <th>142.857143</th>\n",
       "      <td>10099.832739</td>\n",
       "    </tr>\n",
       "    <tr>\n",
       "      <th>183.673469</th>\n",
       "      <td>16733.777822</td>\n",
       "    </tr>\n",
       "    <tr>\n",
       "      <th>224.489796</th>\n",
       "      <td>25033.695416</td>\n",
       "    </tr>\n",
       "    <tr>\n",
       "      <th>265.306122</th>\n",
       "      <td>34999.585521</td>\n",
       "    </tr>\n",
       "    <tr>\n",
       "      <th>306.122449</th>\n",
       "      <td>46631.448137</td>\n",
       "    </tr>\n",
       "    <tr>\n",
       "      <th>346.938776</th>\n",
       "      <td>59929.283266</td>\n",
       "    </tr>\n",
       "    <tr>\n",
       "      <th>387.755102</th>\n",
       "      <td>74893.090905</td>\n",
       "    </tr>\n",
       "    <tr>\n",
       "      <th>428.571429</th>\n",
       "      <td>91522.871056</td>\n",
       "    </tr>\n",
       "    <tr>\n",
       "      <th>469.387755</th>\n",
       "      <td>109818.623719</td>\n",
       "    </tr>\n",
       "    <tr>\n",
       "      <th>510.204082</th>\n",
       "      <td>129780.348893</td>\n",
       "    </tr>\n",
       "    <tr>\n",
       "      <th>551.020408</th>\n",
       "      <td>151408.046578</td>\n",
       "    </tr>\n",
       "    <tr>\n",
       "      <th>591.836735</th>\n",
       "      <td>174701.716775</td>\n",
       "    </tr>\n",
       "    <tr>\n",
       "      <th>632.653061</th>\n",
       "      <td>199661.359484</td>\n",
       "    </tr>\n",
       "    <tr>\n",
       "      <th>673.469388</th>\n",
       "      <td>226286.974703</td>\n",
       "    </tr>\n",
       "    <tr>\n",
       "      <th>714.285714</th>\n",
       "      <td>254578.562435</td>\n",
       "    </tr>\n",
       "    <tr>\n",
       "      <th>755.102041</th>\n",
       "      <td>284536.122677</td>\n",
       "    </tr>\n",
       "    <tr>\n",
       "      <th>795.918367</th>\n",
       "      <td>316159.655431</td>\n",
       "    </tr>\n",
       "    <tr>\n",
       "      <th>836.734694</th>\n",
       "      <td>349449.160697</td>\n",
       "    </tr>\n",
       "    <tr>\n",
       "      <th>877.551020</th>\n",
       "      <td>384404.638474</td>\n",
       "    </tr>\n",
       "    <tr>\n",
       "      <th>918.367347</th>\n",
       "      <td>421026.088763</td>\n",
       "    </tr>\n",
       "    <tr>\n",
       "      <th>959.183673</th>\n",
       "      <td>459313.511563</td>\n",
       "    </tr>\n",
       "    <tr>\n",
       "      <th>1000.000000</th>\n",
       "      <td>499266.906874</td>\n",
       "    </tr>\n",
       "  </tbody>\n",
       "</table>\n",
       "</div>"
      ],
      "text/plain": [
       "                       loss\n",
       "betas                      \n",
       "-1000.000000  500734.210083\n",
       "-959.183673   460720.924845\n",
       "-918.367347   422373.612118\n",
       "-877.551020   385692.271903\n",
       "-836.734694   350676.904199\n",
       "-795.918367   317327.509006\n",
       "-755.102041   285644.086325\n",
       "-714.285714   255626.636156\n",
       "-673.469388   227275.158497\n",
       "-632.653061   200589.653351\n",
       "-591.836735   175570.120715\n",
       "-551.020408   152216.560592\n",
       "-510.204082   130528.972979\n",
       "-469.387755   110507.357878\n",
       "-428.571429    92151.715289\n",
       "-387.755102    75462.045211\n",
       "-346.938776    60438.347644\n",
       "-306.122449    47080.622589\n",
       "-265.306122    35388.870046\n",
       "-224.489796    25363.090014\n",
       "-183.673469    17003.282493\n",
       "-142.857143    10309.447484\n",
       "-102.040816     5281.584986\n",
       "-61.224490      1919.694999\n",
       "-20.408163       223.777524\n",
       " 20.408163       193.832561\n",
       " 61.224490      1829.860109\n",
       " 102.040816     5131.860168\n",
       " 142.857143    10099.832739\n",
       " 183.673469    16733.777822\n",
       " 224.489796    25033.695416\n",
       " 265.306122    34999.585521\n",
       " 306.122449    46631.448137\n",
       " 346.938776    59929.283266\n",
       " 387.755102    74893.090905\n",
       " 428.571429    91522.871056\n",
       " 469.387755   109818.623719\n",
       " 510.204082   129780.348893\n",
       " 551.020408   151408.046578\n",
       " 591.836735   174701.716775\n",
       " 632.653061   199661.359484\n",
       " 673.469388   226286.974703\n",
       " 714.285714   254578.562435\n",
       " 755.102041   284536.122677\n",
       " 795.918367   316159.655431\n",
       " 836.734694   349449.160697\n",
       " 877.551020   384404.638474\n",
       " 918.367347   421026.088763\n",
       " 959.183673   459313.511563\n",
       " 1000.000000  499266.906874"
      ]
     },
     "execution_count": 135,
     "metadata": {},
     "output_type": "execute_result"
    }
   ],
   "source": [
    "losses = []\n",
    "\n",
    "for e in eh:\n",
    "    _loss = loss(e, beta_1, train['Social support'], train['Score'], train.shape[0])\n",
    "    losses.append(_loss)\n",
    "\n",
    "data = {'betas': eh, 'loss': losses}\n",
    "losses_df = pd.DataFrame(data)\n",
    "losses_df = losses_df.set_index(losses_df['betas'])\n",
    "losses_df = losses_df.drop('betas', axis=1)\n",
    "losses_df"
   ]
  },
  {
   "cell_type": "code",
   "execution_count": 136,
   "metadata": {},
   "outputs": [
    {
     "data": {
      "text/plain": [
       "[<matplotlib.lines.Line2D at 0x1db0eb4c1d0>]"
      ]
     },
     "execution_count": 136,
     "metadata": {},
     "output_type": "execute_result"
    },
    {
     "data": {
      "image/png": "[encoded data removed]",
      "text/plain": [
       "<Figure size 640x480 with 1 Axes>"
      ]
     },
     "metadata": {},
     "output_type": "display_data"
    }
   ],
   "source": [
    "plt.plot(losses_df)"
   ]
  },
  {
   "cell_type": "code",
   "execution_count": 121,
   "metadata": {},
   "outputs": [],
   "source": [
    "# Second iteration\n",
    "beta_0 = 0.612245\n",
    "beta_1 = 4.285714"
   ]
  },
  {
   "cell_type": "code",
   "execution_count": 128,
   "metadata": {},
   "outputs": [],
   "source": [
    "# Third iteration\n",
    "beta_1 = 3.877551\n",
    "beta_0 = 0.612245"
   ]
  },
  {
   "cell_type": "code",
   "execution_count": null,
   "metadata": {},
   "outputs": [],
   "source": []
  },
  {
   "cell_type": "code",
   "execution_count": 133,
   "metadata": {},
   "outputs": [
    {
     "data": {
      "text/plain": [
       "<matplotlib.collections.PathCollection at 0x1db0eb37d10>"
      ]
     },
     "execution_count": 133,
     "metadata": {},
     "output_type": "execute_result"
    },
    {
     "data": {
      "image/png": "[encoded data removed]",
      "text/plain": [
       "<Figure size 640x480 with 1 Axes>"
      ]
     },
     "metadata": {},
     "output_type": "display_data"
    }
   ],
   "source": [
    "plt.scatter(test['Social support'], test['Score'])\n",
    "plt.scatter([test['Social support']], [x * beta_1 + beta_0 for x in test['Social support']])"
   ]
  },
  {
   "cell_type": "markdown",
   "metadata": {},
   "source": [
    "$$f(\\beta_1, \\beta_0) = \\frac{\\sum_1^n((\\beta_1x_i + \\beta_0) - y_i)^2}{2n}$$\n",
    "$$\\partial f(\\beta_1, \\beta_0) \\frac{\\sum_1^n((\\beta_1x_i + \\beta_0) - y_i)^2}{2n}$$"
   ]
  }
 ],
 "metadata": {
  "kernelspec": {
   "display_name": "Python 3",
   "language": "python",
   "name": "python3"
  },
  "language_info": {
   "codemirror_mode": {
    "name": "ipython",
    "version": 3
   },
   "file_extension": ".py",
   "mimetype": "text/x-python",
   "name": "python",
   "nbconvert_exporter": "python",
   "pygments_lexer": "ipython3",
   "version": "3.12.5"
  }
 },
 "nbformat": 4,
 "nbformat_minor": 2
}
